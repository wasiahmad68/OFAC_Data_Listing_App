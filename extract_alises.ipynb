{
 "cells": [
  {
   "cell_type": "code",
   "execution_count": 1,
   "id": "a0c66503",
   "metadata": {},
   "outputs": [],
   "source": [
    "import pandas as pd\n",
    "import numpy as np\n",
    "import re"
   ]
  },
  {
   "cell_type": "code",
   "execution_count": null,
   "id": "e61e12bc",
   "metadata": {},
   "outputs": [],
   "source": [
    "# pip install openpyxl"
   ]
  },
  {
   "cell_type": "code",
   "execution_count": 42,
   "id": "df725be7",
   "metadata": {},
   "outputs": [
    {
     "data": {
      "application/vnd.microsoft.datawrangler.viewer.v0+json": {
       "columns": [
        {
         "name": "index",
         "rawType": "int64",
         "type": "integer"
        },
        {
         "name": "list",
         "rawType": "object",
         "type": "string"
        },
        {
         "name": "source",
         "rawType": "object",
         "type": "string"
        }
       ],
       "ref": "84755311-46c2-4dcf-9d03-236279ae38f1",
       "rows": [
        [
         "0",
         "ALIZADEH HOSHYAR, Javad (Arabic: جواد عليزاده هوشيار) (a.k.a. ALIZADE HOUSHYAR, Javad; a.k.a. ALIZADEH HOSHYAR, Javad Saeid; a.k.a. ALIZADEH HUSHYAR, Javad; a.k.a. ALIZADEH-HOSHIAR, Javad), Iran; DOB 24 Aug 1976; POB Iran; nationality Iran; Additional Sanctions Information - Subject to Secondary Sanctions; Gender Male; National ID No. 1376561999 (Iran) (individual) [NPWMD] [IFSR] (Linked To: CONTROL AFZAR TABRIZ CO LTD).",
         "https://ofac.treasury.gov/recent-actions/20250731"
        ],
        [
         "1",
         "CHANGZHOU JOEMARS INDUSTRIAL AUTOMATION CO LTD (a.k.a. CHANGZHOU JOMARS INDUSTRIAL AUTOMATION CO LTD; a.k.a. CHANGZHOU QIAOMAO INDUSTRIAL AUTOMATION CO LTD (Chinese Simplified: 常州乔懋工业自动化有限公司)), No. 678, Xin Chang Road, Xin Zha Township, Changzhou, Jiangsu, China; Additional Sanctions Information - Subject to Secondary Sanctions; Organization Established Date 19 Aug 1997; Registration Number 320400400003944 (China); Unified Social Credit Code (USCC) 913204006081307514 (China) [NPWMD] [IFSR] (Linked To: JOEMARS MACHINERY AND ELECTRIC INDUSTRIAL CO LTD). ",
         "https://ofac.treasury.gov/recent-actions/20250731"
        ],
        [
         "2",
         "CLIFTON TRADING LIMITED, Unit 04-05, 16th Floor, The Broadway, No. 54-62 Lockhart Road, Wanchai, Hong Kong, China; Additional Sanctions Information - Subject to Secondary Sanctions; Organization Established Date 17 Apr 2018; Company Number 2681997 (Hong Kong); Business Registration Number 69231917 (Hong Kong) [NPWMD] [IFSR] (Linked To: CONTROL AFZAR TABRIZ CO LTD). ",
         "https://ofac.treasury.gov/recent-actions/20250731"
        ],
        [
         "3",
         "CONTROL AFZAR TABRIZ CO LTD (Arabic: شرکت کنترل افزار تبريز), No. 66, The End of Asia Street 4, Foreign Investment Town, Tabriz Road, Sufian, Tabriz, Iran; West Unit, Second Floor, No. 247, Beginning of Marzdaran, Ashrafi Isfahani Boulevard, Tehran, Iran; Unit 2, 3rd Floor, Valiasr Commercial Complex, Ghanoun Street, Valiasr Town, Tabriz, Iran; Additional Sanctions Information - Subject to Secondary Sanctions; Organization Established Date 12 Dec 2000; National ID No. 10200172180 (Iran); Chamber of Commerce Number 18103377 (Iran); Registration Number 11374 (Iran) [NPWMD] [IFSR] (Linked To: IRAN AIRCRAFT MANUFACTURING INDUSTRIAL COMPANY). ",
         "https://ofac.treasury.gov/recent-actions/20250731"
        ],
        [
         "4",
         "JOEMARS MACHINERY AND ELECTRIC INDUSTRIAL CO LTD, No. 66, Lane 124, Youyuan Rd, Sec. 1, Taichung City, Taichung Province 432008, Taiwan; No. 900, Lu Yang Jin Mao Road, Zhou Shi Town, Kunshan, Jiangsu, China; Additional Sanctions Information - Subject to Secondary Sanctions; Organization Established Date 25 Jul 1989; Business Registration Number 23397051 (Taiwan) [NPWMD] [IFSR] (Linked To: CONTROL AFZAR TABRIZ CO LTD). ",
         "https://ofac.treasury.gov/recent-actions/20250731"
        ],
        [
         "5",
         "MECATRON MACHINERY CO LTD (Chinese Traditional: 龍馬精機股份有限公司), No. 26-4, Sanxian Rd, Lianhe Village, Taichung City, Taichung Province 421017, Taiwan; Additional Sanctions Information - Subject to Secondary Sanctions; Organization Established Date 16 Oct 2008; Business Number 24249847 (Taiwan) [NPWMD] [IFSR] (Linked To: CONTROL AFZAR TABRIZ CO LTD). ",
         "https://ofac.treasury.gov/recent-actions/20250731"
        ]
       ],
       "shape": {
        "columns": 2,
        "rows": 6
       }
      },
      "text/html": [
       "<div>\n",
       "<style scoped>\n",
       "    .dataframe tbody tr th:only-of-type {\n",
       "        vertical-align: middle;\n",
       "    }\n",
       "\n",
       "    .dataframe tbody tr th {\n",
       "        vertical-align: top;\n",
       "    }\n",
       "\n",
       "    .dataframe thead th {\n",
       "        text-align: right;\n",
       "    }\n",
       "</style>\n",
       "<table border=\"1\" class=\"dataframe\">\n",
       "  <thead>\n",
       "    <tr style=\"text-align: right;\">\n",
       "      <th></th>\n",
       "      <th>list</th>\n",
       "      <th>source</th>\n",
       "    </tr>\n",
       "  </thead>\n",
       "  <tbody>\n",
       "    <tr>\n",
       "      <th>0</th>\n",
       "      <td>ALIZADEH HOSHYAR, Javad (Arabic: جواد عليزاده ...</td>\n",
       "      <td>https://ofac.treasury.gov/recent-actions/20250731</td>\n",
       "    </tr>\n",
       "    <tr>\n",
       "      <th>1</th>\n",
       "      <td>CHANGZHOU JOEMARS INDUSTRIAL AUTOMATION CO LTD...</td>\n",
       "      <td>https://ofac.treasury.gov/recent-actions/20250731</td>\n",
       "    </tr>\n",
       "    <tr>\n",
       "      <th>2</th>\n",
       "      <td>CLIFTON TRADING LIMITED, Unit 04-05, 16th Floo...</td>\n",
       "      <td>https://ofac.treasury.gov/recent-actions/20250731</td>\n",
       "    </tr>\n",
       "    <tr>\n",
       "      <th>3</th>\n",
       "      <td>CONTROL AFZAR TABRIZ CO LTD (Arabic: شرکت کنتر...</td>\n",
       "      <td>https://ofac.treasury.gov/recent-actions/20250731</td>\n",
       "    </tr>\n",
       "    <tr>\n",
       "      <th>4</th>\n",
       "      <td>JOEMARS MACHINERY AND ELECTRIC INDUSTRIAL CO L...</td>\n",
       "      <td>https://ofac.treasury.gov/recent-actions/20250731</td>\n",
       "    </tr>\n",
       "    <tr>\n",
       "      <th>5</th>\n",
       "      <td>MECATRON MACHINERY CO LTD (Chinese Traditional...</td>\n",
       "      <td>https://ofac.treasury.gov/recent-actions/20250731</td>\n",
       "    </tr>\n",
       "  </tbody>\n",
       "</table>\n",
       "</div>"
      ],
      "text/plain": [
       "                                                list  \\\n",
       "0  ALIZADEH HOSHYAR, Javad (Arabic: جواد عليزاده ...   \n",
       "1  CHANGZHOU JOEMARS INDUSTRIAL AUTOMATION CO LTD...   \n",
       "2  CLIFTON TRADING LIMITED, Unit 04-05, 16th Floo...   \n",
       "3  CONTROL AFZAR TABRIZ CO LTD (Arabic: شرکت کنتر...   \n",
       "4  JOEMARS MACHINERY AND ELECTRIC INDUSTRIAL CO L...   \n",
       "5  MECATRON MACHINERY CO LTD (Chinese Traditional...   \n",
       "\n",
       "                                              source  \n",
       "0  https://ofac.treasury.gov/recent-actions/20250731  \n",
       "1  https://ofac.treasury.gov/recent-actions/20250731  \n",
       "2  https://ofac.treasury.gov/recent-actions/20250731  \n",
       "3  https://ofac.treasury.gov/recent-actions/20250731  \n",
       "4  https://ofac.treasury.gov/recent-actions/20250731  \n",
       "5  https://ofac.treasury.gov/recent-actions/20250731  "
      ]
     },
     "execution_count": 42,
     "metadata": {},
     "output_type": "execute_result"
    }
   ],
   "source": [
    "df = pd.read_excel(r'C:\\Users\\wasia\\Desktop\\OFAC data listing\\raw_ofac_list.xlsx')\n",
    "df"
   ]
  },
  {
   "cell_type": "code",
   "execution_count": null,
   "id": "4c3d369f",
   "metadata": {},
   "outputs": [],
   "source": [
    "# function to extract name and alias from ofac raw file\n",
    "\n",
    "\n",
    "def extract_name_alias(text):\n",
    "    if not isinstance(text, str) or not text.strip():\n",
    "        return pd.Series({'name': '', 'alias': ''})\n",
    "    \n",
    "    all_brackets = re.findall(r'\\(([^()]*)\\)', text)\n",
    "    if not all_brackets:\n",
    "        return pd.Series({'name': '', 'alias': ''})\n",
    "    \n",
    "    first_bracket = all_brackets[0]\n",
    "    \n",
    "    # If first () contains Linked To:, return empty\n",
    "    if 'Linked To:' in first_bracket:\n",
    "        return pd.Series({'name': '', 'alias': ''})\n",
    "    \n",
    "    # If first () does NOT contain a.k.a. or f.k.a., and does NOT contain colon, return empty\n",
    "    if ('a.k.a.' not in first_bracket and 'f.k.a.' not in first_bracket) and (':' not in first_bracket):\n",
    "        return pd.Series({'name': '', 'alias': ''})\n",
    "    \n",
    "    name = text.split('(', 1)[0].strip()\n",
    "    \n",
    "    alias_list = []\n",
    "    if 'a.k.a.' not in first_bracket and 'f.k.a.' not in first_bracket:\n",
    "        alias_list.append(first_bracket.strip())\n",
    "    \n",
    "    aka_matches = re.findall(r'\\(([^()]*(?:a\\.k\\.a\\.|f\\.k\\.a\\.).*?)\\)', text)\n",
    "    for match in aka_matches:\n",
    "        parts = re.split(r'a\\.k\\.a\\.|f\\.k\\.a\\.', match)\n",
    "        for part in parts[1:]:\n",
    "            aliases = [p.strip() for p in part.split(';') if p.strip()]\n",
    "            for alias in aliases:\n",
    "                nested = re.findall(r'\\(([^()]*)\\)', alias)\n",
    "                if nested:\n",
    "                    alias_main = re.sub(r'\\([^()]*\\)', '', alias).strip()\n",
    "                    alias_list.append(alias_main)\n",
    "                    for n in nested:\n",
    "                        alias_list.append(n.strip())\n",
    "                else:\n",
    "                    alias_list.append(alias)\n",
    "    \n",
    "    # Deduplicate aliases preserving order\n",
    "    seen = set()\n",
    "    final_aliases = []\n",
    "    for a in alias_list:\n",
    "        if a not in seen:\n",
    "            seen.add(a)\n",
    "            final_aliases.append(a)\n",
    "    \n",
    "    return pd.Series({'name': name, 'alias': '; '.join(final_aliases)})\n",
    "\n",
    "# Usage example:\n",
    "# Suppose your DataFrame is df and the column with text is 'text_column'\n",
    "\n",
    "df[['name', 'alias']] = df['list'].apply(extract_name_alias)\n",
    "\n",
    "# Now df has two new columns 'name' and 'alias' with extracted info\n"
   ]
  },
  {
   "cell_type": "code",
   "execution_count": 39,
   "id": "b67135c7",
   "metadata": {},
   "outputs": [
    {
     "data": {
      "application/vnd.microsoft.datawrangler.viewer.v0+json": {
       "columns": [
        {
         "name": "index",
         "rawType": "int64",
         "type": "integer"
        },
        {
         "name": "list",
         "rawType": "object",
         "type": "string"
        },
        {
         "name": "link",
         "rawType": "object",
         "type": "string"
        },
        {
         "name": "name",
         "rawType": "object",
         "type": "string"
        },
        {
         "name": "alias",
         "rawType": "object",
         "type": "string"
        }
       ],
       "ref": "7bb4fffe-3f72-4153-8578-588fb1a597e2",
       "rows": [
        [
         "0",
         "ALIZADEH HOSHYAR, Javad (Arabic: جواد عليزاده هوشيار) (a.k.a. ALIZADE HOUSHYAR, Javad; a.k.a. ALIZADEH HOSHYAR, Javad Saeid; a.k.a. ALIZADEH HUSHYAR, Javad; a.k.a. ALIZADEH-HOSHIAR, Javad), Iran; DOB 24 Aug 1976; POB Iran; nationality Iran; Additional Sanctions Information - Subject to Secondary Sanctions; Gender Male; National ID No. 1376561999 (Iran) (individual) [NPWMD] [IFSR] (Linked To: CONTROL AFZAR TABRIZ CO LTD).",
         "https://ofac.treasury.gov/recent-actions/20250731",
         "ALIZADEH HOSHYAR, Javad",
         "Arabic: جواد عليزاده هوشيار; ALIZADE HOUSHYAR, Javad; ALIZADEH HOSHYAR, Javad Saeid; ALIZADEH HUSHYAR, Javad; ALIZADEH-HOSHIAR, Javad"
        ],
        [
         "1",
         "CHANGZHOU JOEMARS INDUSTRIAL AUTOMATION CO LTD (a.k.a. CHANGZHOU JOMARS INDUSTRIAL AUTOMATION CO LTD; a.k.a. CHANGZHOU QIAOMAO INDUSTRIAL AUTOMATION CO LTD (Chinese Simplified: 常州乔懋工业自动化有限公司)), No. 678, Xin Chang Road, Xin Zha Township, Changzhou, Jiangsu, China; Additional Sanctions Information - Subject to Secondary Sanctions; Organization Established Date 19 Aug 1997; Registration Number 320400400003944 (China); Unified Social Credit Code (USCC) 913204006081307514 (China) [NPWMD] [IFSR] (Linked To: JOEMARS MACHINERY AND ELECTRIC INDUSTRIAL CO LTD). ",
         "https://ofac.treasury.gov/recent-actions/20250731",
         "CHANGZHOU JOEMARS INDUSTRIAL AUTOMATION CO LTD",
         "Chinese Simplified: 常州乔懋工业自动化有限公司; CHANGZHOU JOMARS INDUSTRIAL AUTOMATION CO LTD; CHANGZHOU QIAOMAO INDUSTRIAL AUTOMATION CO LTD (Chinese Simplified: 常州乔懋工业自动化有限公司"
        ],
        [
         "2",
         "CLIFTON TRADING LIMITED, Unit 04-05, 16th Floor, The Broadway, No. 54-62 Lockhart Road, Wanchai, Hong Kong, China; Additional Sanctions Information - Subject to Secondary Sanctions; Organization Established Date 17 Apr 2018; Company Number 2681997 (Hong Kong); Business Registration Number 69231917 (Hong Kong) [NPWMD] [IFSR] (Linked To: CONTROL AFZAR TABRIZ CO LTD). ",
         "https://ofac.treasury.gov/recent-actions/20250731",
         "",
         ""
        ],
        [
         "3",
         "CONTROL AFZAR TABRIZ CO LTD (Arabic: شرکت کنترل افزار تبريز), No. 66, The End of Asia Street 4, Foreign Investment Town, Tabriz Road, Sufian, Tabriz, Iran; West Unit, Second Floor, No. 247, Beginning of Marzdaran, Ashrafi Isfahani Boulevard, Tehran, Iran; Unit 2, 3rd Floor, Valiasr Commercial Complex, Ghanoun Street, Valiasr Town, Tabriz, Iran; Additional Sanctions Information - Subject to Secondary Sanctions; Organization Established Date 12 Dec 2000; National ID No. 10200172180 (Iran); Chamber of Commerce Number 18103377 (Iran); Registration Number 11374 (Iran) [NPWMD] [IFSR] (Linked To: IRAN AIRCRAFT MANUFACTURING INDUSTRIAL COMPANY). ",
         "https://ofac.treasury.gov/recent-actions/20250731",
         "CONTROL AFZAR TABRIZ CO LTD",
         "Arabic: شرکت کنترل افزار تبريز"
        ],
        [
         "4",
         "JOEMARS MACHINERY AND ELECTRIC INDUSTRIAL CO LTD, No. 66, Lane 124, Youyuan Rd, Sec. 1, Taichung City, Taichung Province 432008, Taiwan; No. 900, Lu Yang Jin Mao Road, Zhou Shi Town, Kunshan, Jiangsu, China; Additional Sanctions Information - Subject to Secondary Sanctions; Organization Established Date 25 Jul 1989; Business Registration Number 23397051 (Taiwan) [NPWMD] [IFSR] (Linked To: CONTROL AFZAR TABRIZ CO LTD). ",
         "https://ofac.treasury.gov/recent-actions/20250731",
         "",
         ""
        ],
        [
         "5",
         "MECATRON MACHINERY CO LTD (Chinese Traditional: 龍馬精機股份有限公司), No. 26-4, Sanxian Rd, Lianhe Village, Taichung City, Taichung Province 421017, Taiwan; Additional Sanctions Information - Subject to Secondary Sanctions; Organization Established Date 16 Oct 2008; Business Number 24249847 (Taiwan) [NPWMD] [IFSR] (Linked To: CONTROL AFZAR TABRIZ CO LTD). ",
         "https://ofac.treasury.gov/recent-actions/20250731",
         "MECATRON MACHINERY CO LTD",
         "Chinese Traditional: 龍馬精機股份有限公司"
        ]
       ],
       "shape": {
        "columns": 4,
        "rows": 6
       }
      },
      "text/html": [
       "<div>\n",
       "<style scoped>\n",
       "    .dataframe tbody tr th:only-of-type {\n",
       "        vertical-align: middle;\n",
       "    }\n",
       "\n",
       "    .dataframe tbody tr th {\n",
       "        vertical-align: top;\n",
       "    }\n",
       "\n",
       "    .dataframe thead th {\n",
       "        text-align: right;\n",
       "    }\n",
       "</style>\n",
       "<table border=\"1\" class=\"dataframe\">\n",
       "  <thead>\n",
       "    <tr style=\"text-align: right;\">\n",
       "      <th></th>\n",
       "      <th>list</th>\n",
       "      <th>link</th>\n",
       "      <th>name</th>\n",
       "      <th>alias</th>\n",
       "    </tr>\n",
       "  </thead>\n",
       "  <tbody>\n",
       "    <tr>\n",
       "      <th>0</th>\n",
       "      <td>ALIZADEH HOSHYAR, Javad (Arabic: جواد عليزاده ...</td>\n",
       "      <td>https://ofac.treasury.gov/recent-actions/20250731</td>\n",
       "      <td>ALIZADEH HOSHYAR, Javad</td>\n",
       "      <td>Arabic: جواد عليزاده هوشيار; ALIZADE HOUSHYAR,...</td>\n",
       "    </tr>\n",
       "    <tr>\n",
       "      <th>1</th>\n",
       "      <td>CHANGZHOU JOEMARS INDUSTRIAL AUTOMATION CO LTD...</td>\n",
       "      <td>https://ofac.treasury.gov/recent-actions/20250731</td>\n",
       "      <td>CHANGZHOU JOEMARS INDUSTRIAL AUTOMATION CO LTD</td>\n",
       "      <td>Chinese Simplified: 常州乔懋工业自动化有限公司; CHANGZHOU J...</td>\n",
       "    </tr>\n",
       "    <tr>\n",
       "      <th>2</th>\n",
       "      <td>CLIFTON TRADING LIMITED, Unit 04-05, 16th Floo...</td>\n",
       "      <td>https://ofac.treasury.gov/recent-actions/20250731</td>\n",
       "      <td></td>\n",
       "      <td></td>\n",
       "    </tr>\n",
       "    <tr>\n",
       "      <th>3</th>\n",
       "      <td>CONTROL AFZAR TABRIZ CO LTD (Arabic: شرکت کنتر...</td>\n",
       "      <td>https://ofac.treasury.gov/recent-actions/20250731</td>\n",
       "      <td>CONTROL AFZAR TABRIZ CO LTD</td>\n",
       "      <td>Arabic: شرکت کنترل افزار تبريز</td>\n",
       "    </tr>\n",
       "    <tr>\n",
       "      <th>4</th>\n",
       "      <td>JOEMARS MACHINERY AND ELECTRIC INDUSTRIAL CO L...</td>\n",
       "      <td>https://ofac.treasury.gov/recent-actions/20250731</td>\n",
       "      <td></td>\n",
       "      <td></td>\n",
       "    </tr>\n",
       "    <tr>\n",
       "      <th>5</th>\n",
       "      <td>MECATRON MACHINERY CO LTD (Chinese Traditional...</td>\n",
       "      <td>https://ofac.treasury.gov/recent-actions/20250731</td>\n",
       "      <td>MECATRON MACHINERY CO LTD</td>\n",
       "      <td>Chinese Traditional: 龍馬精機股份有限公司</td>\n",
       "    </tr>\n",
       "  </tbody>\n",
       "</table>\n",
       "</div>"
      ],
      "text/plain": [
       "                                                list  \\\n",
       "0  ALIZADEH HOSHYAR, Javad (Arabic: جواد عليزاده ...   \n",
       "1  CHANGZHOU JOEMARS INDUSTRIAL AUTOMATION CO LTD...   \n",
       "2  CLIFTON TRADING LIMITED, Unit 04-05, 16th Floo...   \n",
       "3  CONTROL AFZAR TABRIZ CO LTD (Arabic: شرکت کنتر...   \n",
       "4  JOEMARS MACHINERY AND ELECTRIC INDUSTRIAL CO L...   \n",
       "5  MECATRON MACHINERY CO LTD (Chinese Traditional...   \n",
       "\n",
       "                                                link  \\\n",
       "0  https://ofac.treasury.gov/recent-actions/20250731   \n",
       "1  https://ofac.treasury.gov/recent-actions/20250731   \n",
       "2  https://ofac.treasury.gov/recent-actions/20250731   \n",
       "3  https://ofac.treasury.gov/recent-actions/20250731   \n",
       "4  https://ofac.treasury.gov/recent-actions/20250731   \n",
       "5  https://ofac.treasury.gov/recent-actions/20250731   \n",
       "\n",
       "                                             name  \\\n",
       "0                         ALIZADEH HOSHYAR, Javad   \n",
       "1  CHANGZHOU JOEMARS INDUSTRIAL AUTOMATION CO LTD   \n",
       "2                                                   \n",
       "3                     CONTROL AFZAR TABRIZ CO LTD   \n",
       "4                                                   \n",
       "5                       MECATRON MACHINERY CO LTD   \n",
       "\n",
       "                                               alias  \n",
       "0  Arabic: جواد عليزاده هوشيار; ALIZADE HOUSHYAR,...  \n",
       "1  Chinese Simplified: 常州乔懋工业自动化有限公司; CHANGZHOU J...  \n",
       "2                                                     \n",
       "3                     Arabic: شرکت کنترل افزار تبريز  \n",
       "4                                                     \n",
       "5                    Chinese Traditional: 龍馬精機股份有限公司  "
      ]
     },
     "execution_count": 39,
     "metadata": {},
     "output_type": "execute_result"
    }
   ],
   "source": [
    "df"
   ]
  },
  {
   "cell_type": "code",
   "execution_count": 41,
   "id": "499eef9e",
   "metadata": {},
   "outputs": [],
   "source": [
    "\n",
    "df.to_csv('df_check.csv', encoding='utf-8-sig', index=False)"
   ]
  }
 ],
 "metadata": {
  "kernelspec": {
   "display_name": "Python 3",
   "language": "python",
   "name": "python3"
  },
  "language_info": {
   "codemirror_mode": {
    "name": "ipython",
    "version": 3
   },
   "file_extension": ".py",
   "mimetype": "text/x-python",
   "name": "python",
   "nbconvert_exporter": "python",
   "pygments_lexer": "ipython3",
   "version": "3.13.5"
  }
 },
 "nbformat": 4,
 "nbformat_minor": 5
}
